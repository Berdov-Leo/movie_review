{
  "nbformat": 4,
  "nbformat_minor": 0,
  "metadata": {
    "colab": {
      "provenance": []
    },
    "kernelspec": {
      "name": "python3",
      "display_name": "Python 3"
    },
    "language_info": {
      "name": "python"
    }
  },
  "cells": [
    {
      "cell_type": "code",
      "source": [
        "# Скачивание датасета\n",
        "!wget https://ai.stanford.edu/~amaas/data/sentiment/aclImdb_v1.tar.gz"
      ],
      "metadata": {
        "colab": {
          "base_uri": "https://localhost:8080/"
        },
        "id": "T2pVmd8ZXBng",
        "outputId": "9da447d1-d0e4-4911-dea7-e4683249f026"
      },
      "execution_count": 1,
      "outputs": [
        {
          "output_type": "stream",
          "name": "stdout",
          "text": [
            "--2024-10-16 12:44:57--  https://ai.stanford.edu/~amaas/data/sentiment/aclImdb_v1.tar.gz\n",
            "Resolving ai.stanford.edu (ai.stanford.edu)... 171.64.68.10\n",
            "Connecting to ai.stanford.edu (ai.stanford.edu)|171.64.68.10|:443... connected.\n",
            "HTTP request sent, awaiting response... 200 OK\n",
            "Length: 84125825 (80M) [application/x-gzip]\n",
            "Saving to: ‘aclImdb_v1.tar.gz’\n",
            "\n",
            "aclImdb_v1.tar.gz   100%[===================>]  80.23M  1.32MB/s    in 42s     \n",
            "\n",
            "2024-10-16 12:45:40 (1.90 MB/s) - ‘aclImdb_v1.tar.gz’ saved [84125825/84125825]\n",
            "\n"
          ]
        }
      ]
    },
    {
      "cell_type": "code",
      "source": [
        "# Распаковка архива\n",
        "!tar -xf aclImdb_v1.tar.gz"
      ],
      "metadata": {
        "id": "59tppADJXE-P"
      },
      "execution_count": 2,
      "outputs": []
    },
    {
      "cell_type": "code",
      "source": [
        "# Проверка содержимого директории\n",
        "!ls aclImdb"
      ],
      "metadata": {
        "colab": {
          "base_uri": "https://localhost:8080/"
        },
        "id": "3sTuVwceXGTW",
        "outputId": "ee77f191-ddd6-421d-d24e-67227b1761b2"
      },
      "execution_count": 3,
      "outputs": [
        {
          "output_type": "stream",
          "name": "stdout",
          "text": [
            "imdbEr.txt  imdb.vocab\tREADME\ttest  train\n"
          ]
        }
      ]
    },
    {
      "cell_type": "code",
      "execution_count": 4,
      "metadata": {
        "id": "oDPnxp5zGU77"
      },
      "outputs": [],
      "source": [
        "import os\n",
        "import pandas as pd\n",
        "from sklearn.model_selection import train_test_split\n",
        "from sklearn.feature_extraction.text import TfidfVectorizer\n",
        "from sklearn.linear_model import LogisticRegression\n",
        "from sklearn.metrics import accuracy_score, classification_report"
      ]
    },
    {
      "cell_type": "code",
      "source": [
        "# Функция для загрузки данных\n",
        "def load_data(directory):\n",
        "    texts = []\n",
        "    labels = []\n",
        "\n",
        "    # Загрузка положительных отзывов\n",
        "    pos_dir = os.path.join(directory, 'pos')\n",
        "    for file_name in os.listdir(pos_dir):\n",
        "        file_path = os.path.join(pos_dir, file_name)\n",
        "        with open(file_path, 'r', encoding='utf-8') as f:\n",
        "            texts.append(f.read())\n",
        "            labels.append(1)  # Метка для положительных отзывов\n",
        "\n",
        "    # Загрузка отрицательных отзывов\n",
        "    neg_dir = os.path.join(directory, 'neg')\n",
        "    for file_name in os.listdir(neg_dir):\n",
        "        file_path = os.path.join(neg_dir, file_name)\n",
        "        with open(file_path, 'r', encoding='utf-8') as f:\n",
        "            texts.append(f.read())\n",
        "            labels.append(0)  # Метка для отрицательных отзывов\n",
        "\n",
        "    return texts, labels"
      ],
      "metadata": {
        "id": "34lVnmpIGXnj"
      },
      "execution_count": 5,
      "outputs": []
    },
    {
      "cell_type": "code",
      "source": [
        "# Загрузка данных\n",
        "train_dir = 'aclImdb/train'\n",
        "test_dir = 'aclImdb/test'\n",
        "\n",
        "X_train_texts, y_train = load_data(train_dir)\n",
        "X_test_texts, y_test = load_data(test_dir)"
      ],
      "metadata": {
        "id": "RRf_z-tbGab9"
      },
      "execution_count": 6,
      "outputs": []
    },
    {
      "cell_type": "code",
      "source": [
        "# Преобразование текста в числовое представление с помощью TF-IDF\n",
        "tfidf = TfidfVectorizer(max_features=5000, ngram_range=(1, 2), stop_words='english')\n",
        "\n",
        "# Преобразование обучающих и тестовых данных\n",
        "X_train = tfidf.fit_transform(X_train_texts)\n",
        "X_test = tfidf.transform(X_test_texts)"
      ],
      "metadata": {
        "id": "fUC8b_BIGdMF"
      },
      "execution_count": 7,
      "outputs": []
    },
    {
      "cell_type": "code",
      "source": [
        "# Обучение модели логистической регрессии\n",
        "model = LogisticRegression(max_iter=1000)\n",
        "model.fit(X_train, y_train)\n",
        "\n",
        "# Прогнозирование на тестовых данных\n",
        "y_pred = model.predict(X_test)"
      ],
      "metadata": {
        "id": "ByruBsEeGe7t"
      },
      "execution_count": 8,
      "outputs": []
    },
    {
      "cell_type": "code",
      "source": [
        "# Оценка модели\n",
        "accuracy = accuracy_score(y_test, y_pred)\n",
        "print(f\"Точность модели: {accuracy * 100:.2f}%\")"
      ],
      "metadata": {
        "colab": {
          "base_uri": "https://localhost:8080/"
        },
        "id": "_gpL_W5WGgog",
        "outputId": "8ccca583-d345-4849-9626-a3d311556253"
      },
      "execution_count": 9,
      "outputs": [
        {
          "output_type": "stream",
          "name": "stdout",
          "text": [
            "Точность модели: 87.88%\n"
          ]
        }
      ]
    },
    {
      "cell_type": "code",
      "source": [
        "# Отчет о классификации\n",
        "print(classification_report(y_test, y_pred, target_names=[\"Отрицательные\", \"Положительные\"]))"
      ],
      "metadata": {
        "colab": {
          "base_uri": "https://localhost:8080/"
        },
        "id": "oOJikV6mGhNR",
        "outputId": "a5f472ce-3536-4416-c543-3984309c1cb8"
      },
      "execution_count": 10,
      "outputs": [
        {
          "output_type": "stream",
          "name": "stdout",
          "text": [
            "               precision    recall  f1-score   support\n",
            "\n",
            "Отрицательные       0.88      0.87      0.88     12500\n",
            "Положительные       0.88      0.88      0.88     12500\n",
            "\n",
            "     accuracy                           0.88     25000\n",
            "    macro avg       0.88      0.88      0.88     25000\n",
            " weighted avg       0.88      0.88      0.88     25000\n",
            "\n"
          ]
        }
      ]
    },
    {
      "cell_type": "code",
      "source": [
        "import joblib\n",
        "\n",
        "# Сохранение модели\n",
        "joblib.dump(model, 'logistic_model.pkl')"
      ],
      "metadata": {
        "colab": {
          "base_uri": "https://localhost:8080/"
        },
        "id": "kY0KcIdHZRod",
        "outputId": "6d2d4f67-32b8-403c-ff2a-6c000c99da24"
      },
      "execution_count": 11,
      "outputs": [
        {
          "output_type": "execute_result",
          "data": {
            "text/plain": [
              "['logistic_model.pkl']"
            ]
          },
          "metadata": {},
          "execution_count": 11
        }
      ]
    },
    {
      "cell_type": "code",
      "source": [
        "import joblib\n",
        "from sklearn.feature_extraction.text import TfidfVectorizer\n",
        "\n",
        "# Пример создания и сохранения TF-IDF\n",
        "tfidf = TfidfVectorizer(max_features=5000, ngram_range=(1, 2), stop_words='english')\n",
        "\n",
        "X_train_tfidf = tfidf.fit_transform(X_train_texts)\n",
        "\n",
        "# Сохранение модели\n",
        "joblib.dump(tfidf, 'tfidf.pkl')\n"
      ],
      "metadata": {
        "colab": {
          "base_uri": "https://localhost:8080/"
        },
        "id": "84AR5G59oDh0",
        "outputId": "0cdef9e1-2c3e-440f-9fec-091de615bd9a"
      },
      "execution_count": 18,
      "outputs": [
        {
          "output_type": "execute_result",
          "data": {
            "text/plain": [
              "['tfidf.pkl']"
            ]
          },
          "metadata": {},
          "execution_count": 18
        }
      ]
    }
  ]
}